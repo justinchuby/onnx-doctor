{
 "cells": [
  {
   "cell_type": "code",
   "execution_count": 1,
   "metadata": {},
   "outputs": [],
   "source": [
    "import onnx\n",
    "import onnxrewriter.experimental.intermediate_representation as ir"
   ]
  },
  {
   "cell_type": "code",
   "execution_count": 2,
   "metadata": {},
   "outputs": [],
   "source": [
    "proto = onnx.load(\"models/feastconv_Opset16.textproto\")\n",
    "model = ir.serde.deserialize_model(proto)"
   ]
  },
  {
   "cell_type": "markdown",
   "metadata": {},
   "source": [
    "Take a look at its initializers"
   ]
  },
  {
   "cell_type": "code",
   "execution_count": 3,
   "metadata": {},
   "outputs": [
    {
     "name": "stdout",
     "output_type": "stream",
     "text": [
      "dict_values([TensorProtoTensor<FLOAT,[1]>('c'), TensorProtoTensor<FLOAT,[7]>('bias'), TensorProtoTensor<FLOAT,[1433,1]>('onnx::MatMul_93'), TensorProtoTensor<FLOAT,[1433,7]>('onnx::MatMul_94')])\n"
     ]
    }
   ],
   "source": [
    "# all_initializers\n",
    "print(model.graph.initializers.values())"
   ]
  },
  {
   "cell_type": "code",
   "execution_count": 4,
   "metadata": {},
   "outputs": [
    {
     "data": {
      "text/html": [
       "<pre style=\"white-space:pre;overflow-x:auto;line-height:normal;font-family:Menlo,'DejaVu Sans Mono',consolas,'Courier New',monospace\"></pre>\n"
      ],
      "text/plain": []
     },
     "metadata": {},
     "output_type": "display_data"
    },
    {
     "data": {
      "text/html": [
       "<pre style=\"white-space:pre;overflow-x:auto;line-height:normal;font-family:Menlo,'DejaVu Sans Mono',consolas,'Courier New',monospace\">TensorProtoTensor<span style=\"font-weight: bold\">&lt;</span><span style=\"color: #ff00ff; text-decoration-color: #ff00ff; font-weight: bold\">FLOAT</span><span style=\"color: #000000; text-decoration-color: #000000\">,</span><span style=\"color: #000000; text-decoration-color: #000000; font-weight: bold\">[</span><span style=\"color: #008080; text-decoration-color: #008080; font-weight: bold\">1433</span><span style=\"color: #000000; text-decoration-color: #000000\">,</span><span style=\"color: #008080; text-decoration-color: #008080; font-weight: bold\">1</span><span style=\"color: #000000; text-decoration-color: #000000; font-weight: bold\">]</span><span style=\"font-weight: bold\">&gt;(</span><span style=\"color: #008000; text-decoration-color: #008000\">'onnx::MatMul_93'</span><span style=\"font-weight: bold\">)</span>\n",
       "\n",
       "Min: <span style=\"color: #008080; text-decoration-color: #008080; font-weight: bold\">-0.026407379657030106</span>, Max: <span style=\"color: #008080; text-decoration-color: #008080; font-weight: bold\">0.026337720453739166</span>, NaN count: <span style=\"color: #008080; text-decoration-color: #008080; font-weight: bold\">0</span>, Inf count: <span style=\"color: #008080; text-decoration-color: #008080; font-weight: bold\">0</span>\n",
       "Sparsity <span style=\"font-weight: bold\">(</span>abs&lt;<span style=\"color: #008080; text-decoration-color: #008080; font-weight: bold\">1e-06</span><span style=\"font-weight: bold\">)</span>: <span style=\"color: #008080; text-decoration-color: #008080; font-weight: bold\">0.00</span>\n",
       "Histogram:\n",
       "      <span style=\"color: #008080; text-decoration-color: #008080; font-weight: bold\">29</span> ┤                                 ╭╮\n",
       "      <span style=\"color: #008080; text-decoration-color: #008080; font-weight: bold\">27</span> ┤                ╭╮               ││                              ╭╮\n",
       "      <span style=\"color: #008080; text-decoration-color: #008080; font-weight: bold\">25</span> ┤   ╭╮  ╭╮       ││               ││        ╭─╮ ╭╮                ││\n",
       "      <span style=\"color: #008080; text-decoration-color: #008080; font-weight: bold\">22</span> ┤   ││  ││       ││   ╭╮          ││        │ │ ││         ╭╮     │╰╮  ╭╮   ╭╮\n",
       "      <span style=\"color: #008080; text-decoration-color: #008080; font-weight: bold\">20</span> ┤  ╭╯│ ╭╯│╭╮     │╰─╮╭╯╰─╮  ╭╮  ╭╮││ ╭╮╭─╮ ╭╯ │ ││╭╮╭╮╭──╮ ││     │ │╭╮││   ││\n",
       "      <span style=\"color: #008080; text-decoration-color: #008080; font-weight: bold\">18</span> ┤  │ │ │ ││╰╮  ╭─╯  ╰╯   │╭╮││  │││╰╮│╰╯ │ │  │ │││╰╯││  ╰╮││ ╭╮ ╭╯ ╰╯╰╯│   │╰╮╭\n",
       "      <span style=\"color: #008080; text-decoration-color: #008080; font-weight: bold\">16</span> ┤  │ ╰─╯ ││ ╰──╯         ╰╯╰╯╰─╮│╰╯ ╰╯   ╰╮│  │ │╰╯  ╰╯   ╰╯╰─╯╰─╯      ╰──╮│ ╰╯\n",
       "      <span style=\"color: #008080; text-decoration-color: #008080; font-weight: bold\">13</span> ┤ ╭╯     ╰╯                    ╰╯         ╰╯  ╰╮│                          ││\n",
       "      <span style=\"color: #008080; text-decoration-color: #008080; font-weight: bold\">11</span> ┼─╯                                            ╰╯                          ╰╯\n",
       "       <span style=\"color: #008080; text-decoration-color: #008080; font-weight: bold\">9</span> ┤\n",
       "    <span style=\"color: #008080; text-decoration-color: #008080; font-weight: bold\">-0.0264</span>  <span style=\"color: #008080; text-decoration-color: #008080; font-weight: bold\">-0.0211</span>  <span style=\"color: #008080; text-decoration-color: #008080; font-weight: bold\">-0.0159</span>  <span style=\"color: #008080; text-decoration-color: #008080; font-weight: bold\">-0.0099</span>  <span style=\"color: #008080; text-decoration-color: #008080; font-weight: bold\">-0.0047</span>  <span style=\"color: #008080; text-decoration-color: #008080; font-weight: bold\">0.0013</span>  <span style=\"color: #008080; text-decoration-color: #008080; font-weight: bold\">0.0059</span>  <span style=\"color: #008080; text-decoration-color: #008080; font-weight: bold\">0.0112</span>  <span style=\"color: #008080; text-decoration-color: #008080; font-weight: bold\">0.0158</span>  <span style=\"color: #008080; text-decoration-color: #008080; font-weight: bold\">0.0211</span>  <span style=\"color: #008080; text-decoration-color: #008080; font-weight: bold\">0.0263</span>\n",
       "</pre>\n"
      ],
      "text/plain": [
       "TensorProtoTensor\u001b[1m<\u001b[0m\u001b[1;95mFLOAT\u001b[0m\u001b[39m,\u001b[0m\u001b[1;39m[\u001b[0m\u001b[1;36m1433\u001b[0m\u001b[39m,\u001b[0m\u001b[1;36m1\u001b[0m\u001b[1;39m]\u001b[0m\u001b[1m>\u001b[0m\u001b[1m(\u001b[0m\u001b[32m'onnx::MatMul_93'\u001b[0m\u001b[1m)\u001b[0m\n",
       "\n",
       "Min: \u001b[1;36m-0.026407379657030106\u001b[0m, Max: \u001b[1;36m0.026337720453739166\u001b[0m, NaN count: \u001b[1;36m0\u001b[0m, Inf count: \u001b[1;36m0\u001b[0m\n",
       "Sparsity \u001b[1m(\u001b[0mabs<\u001b[1;36m1e-06\u001b[0m\u001b[1m)\u001b[0m: \u001b[1;36m0.00\u001b[0m\n",
       "Histogram:\n",
       "      \u001b[1;36m29\u001b[0m ┤                                 ╭╮\n",
       "      \u001b[1;36m27\u001b[0m ┤                ╭╮               ││                              ╭╮\n",
       "      \u001b[1;36m25\u001b[0m ┤   ╭╮  ╭╮       ││               ││        ╭─╮ ╭╮                ││\n",
       "      \u001b[1;36m22\u001b[0m ┤   ││  ││       ││   ╭╮          ││        │ │ ││         ╭╮     │╰╮  ╭╮   ╭╮\n",
       "      \u001b[1;36m20\u001b[0m ┤  ╭╯│ ╭╯│╭╮     │╰─╮╭╯╰─╮  ╭╮  ╭╮││ ╭╮╭─╮ ╭╯ │ ││╭╮╭╮╭──╮ ││     │ │╭╮││   ││\n",
       "      \u001b[1;36m18\u001b[0m ┤  │ │ │ ││╰╮  ╭─╯  ╰╯   │╭╮││  │││╰╮│╰╯ │ │  │ │││╰╯││  ╰╮││ ╭╮ ╭╯ ╰╯╰╯│   │╰╮╭\n",
       "      \u001b[1;36m16\u001b[0m ┤  │ ╰─╯ ││ ╰──╯         ╰╯╰╯╰─╮│╰╯ ╰╯   ╰╮│  │ │╰╯  ╰╯   ╰╯╰─╯╰─╯      ╰──╮│ ╰╯\n",
       "      \u001b[1;36m13\u001b[0m ┤ ╭╯     ╰╯                    ╰╯         ╰╯  ╰╮│                          ││\n",
       "      \u001b[1;36m11\u001b[0m ┼─╯                                            ╰╯                          ╰╯\n",
       "       \u001b[1;36m9\u001b[0m ┤\n",
       "    \u001b[1;36m-0.0264\u001b[0m  \u001b[1;36m-0.0211\u001b[0m  \u001b[1;36m-0.0159\u001b[0m  \u001b[1;36m-0.0099\u001b[0m  \u001b[1;36m-0.0047\u001b[0m  \u001b[1;36m0.0013\u001b[0m  \u001b[1;36m0.0059\u001b[0m  \u001b[1;36m0.0112\u001b[0m  \u001b[1;36m0.0158\u001b[0m  \u001b[1;36m0.0211\u001b[0m  \u001b[1;36m0.0263\u001b[0m\n"
      ]
     },
     "metadata": {},
     "output_type": "display_data"
    }
   ],
   "source": [
    "model.graph.initializers[\"onnx::MatMul_93\"].display()"
   ]
  },
  {
   "cell_type": "code",
   "execution_count": 5,
   "metadata": {},
   "outputs": [],
   "source": [
    "import onnxdoctor\n",
    "from onnxdoctor.diagnostics_providers import SparsityAnalyzer"
   ]
  },
  {
   "cell_type": "code",
   "execution_count": 6,
   "metadata": {},
   "outputs": [
    {
     "data": {
      "text/plain": [
       "[DiagnosticsMessage(target_type='tensor', target=TensorProtoTensor<INT64,[]>(''), message='Sparsity is 100.00%', severity='info', producer='', error_code=''),\n",
       " DiagnosticsMessage(target_type='tensor', target=TensorProtoTensor<INT64,[]>(''), message='Sparsity is 0.00%', severity='info', producer='', error_code=''),\n",
       " DiagnosticsMessage(target_type='tensor', target=TensorProtoTensor<INT64,[1]>(''), message='Sparsity is 0.00%', severity='info', producer='', error_code=''),\n",
       " DiagnosticsMessage(target_type='tensor', target=TensorProtoTensor<INT64,[1,2708]>(''), message='Sparsity is 0.04%', severity='info', producer='', error_code=''),\n",
       " DiagnosticsMessage(target_type='tensor', target=TensorProtoTensor<INT64,[2]>(''), message='Sparsity is 0.00%', severity='info', producer='', error_code=''),\n",
       " DiagnosticsMessage(target_type='tensor', target=TensorProtoTensor<INT64,[1]>(''), message='Sparsity is 0.00%', severity='info', producer='', error_code=''),\n",
       " DiagnosticsMessage(target_type='tensor', target=TensorProtoTensor<INT64,[1]>(''), message='Sparsity is 0.00%', severity='info', producer='', error_code=''),\n",
       " DiagnosticsMessage(target_type='tensor', target=TensorProtoTensor<INT64,[]>(''), message='Sparsity is 100.00%', severity='info', producer='', error_code=''),\n",
       " DiagnosticsMessage(target_type='tensor', target=TensorProtoTensor<INT64,[1]>(''), message='Sparsity is 100.00%', severity='info', producer='', error_code=''),\n",
       " DiagnosticsMessage(target_type='tensor', target=TensorProtoTensor<INT64,[1]>(''), message='Sparsity is 0.00%', severity='info', producer='', error_code=''),\n",
       " DiagnosticsMessage(target_type='tensor', target=TensorProtoTensor<INT64,[1]>(''), message='Sparsity is 0.00%', severity='info', producer='', error_code=''),\n",
       " DiagnosticsMessage(target_type='tensor', target=TensorProtoTensor<INT64,[3]>(''), message='Sparsity is 0.00%', severity='info', producer='', error_code=''),\n",
       " DiagnosticsMessage(target_type='tensor', target=TensorProtoTensor<INT64,[1]>(''), message='Sparsity is 0.00%', severity='info', producer='', error_code=''),\n",
       " DiagnosticsMessage(target_type='tensor', target=TensorProtoTensor<INT64,[]>(''), message='Sparsity is 0.00%', severity='info', producer='', error_code=''),\n",
       " DiagnosticsMessage(target_type='tensor', target=TensorProtoTensor<INT64,[]>(''), message='Sparsity is 100.00%', severity='info', producer='', error_code=''),\n",
       " DiagnosticsMessage(target_type='tensor', target=TensorProtoTensor<INT64,[1]>(''), message='Sparsity is 100.00%', severity='info', producer='', error_code=''),\n",
       " DiagnosticsMessage(target_type='tensor', target=TensorProtoTensor<FLOAT,[1]>(''), message='Sparsity is 0.00%', severity='info', producer='', error_code=''),\n",
       " DiagnosticsMessage(target_type='tensor', target=TensorProtoTensor<FLOAT,[2708]>(''), message='Sparsity is 100.00%', severity='info', producer='', error_code=''),\n",
       " DiagnosticsMessage(target_type='tensor', target=TensorProtoTensor<INT64,[1]>(''), message='Sparsity is 100.00%', severity='info', producer='', error_code=''),\n",
       " DiagnosticsMessage(target_type='tensor', target=TensorProtoTensor<FLOAT,[]>(''), message='Sparsity is 0.00%', severity='info', producer='', error_code=''),\n",
       " DiagnosticsMessage(target_type='tensor', target=TensorProtoTensor<INT64,[2]>(''), message='Sparsity is 0.00%', severity='info', producer='', error_code=''),\n",
       " DiagnosticsMessage(target_type='tensor', target=TensorProtoTensor<INT64,[1]>(''), message='Sparsity is 0.00%', severity='info', producer='', error_code=''),\n",
       " DiagnosticsMessage(target_type='tensor', target=TensorProtoTensor<INT64,[1]>(''), message='Sparsity is 100.00%', severity='info', producer='', error_code=''),\n",
       " DiagnosticsMessage(target_type='tensor', target=TensorProtoTensor<FLOAT,[1]>(''), message='Sparsity is 100.00%', severity='info', producer='', error_code=''),\n",
       " DiagnosticsMessage(target_type='tensor', target=TensorProtoTensor<INT64,[2]>(''), message='Sparsity is 100.00%', severity='info', producer='', error_code=''),\n",
       " DiagnosticsMessage(target_type='tensor', target=TensorProtoTensor<INT64,[2]>(''), message='Sparsity is 0.00%', severity='info', producer='', error_code=''),\n",
       " DiagnosticsMessage(target_type='tensor', target=TensorProtoTensor<FLOAT,[1]>('c'), message='Sparsity is 0.00%', severity='info', producer='', error_code=''),\n",
       " DiagnosticsMessage(target_type='tensor', target=TensorProtoTensor<FLOAT,[7]>('bias'), message='Sparsity is 0.00%', severity='info', producer='', error_code=''),\n",
       " DiagnosticsMessage(target_type='tensor', target=TensorProtoTensor<FLOAT,[1433,1]>('onnx::MatMul_93'), message='Sparsity is 0.00%', severity='info', producer='', error_code=''),\n",
       " DiagnosticsMessage(target_type='tensor', target=TensorProtoTensor<FLOAT,[1433,7]>('onnx::MatMul_94'), message='Sparsity is 0.04%', severity='info', producer='', error_code='')]"
      ]
     },
     "execution_count": 6,
     "metadata": {},
     "output_type": "execute_result"
    }
   ],
   "source": [
    "onnxdoctor.diagnose(model, [SparsityAnalyzer(threshold=1e-5)])"
   ]
  },
  {
   "cell_type": "code",
   "execution_count": null,
   "metadata": {},
   "outputs": [],
   "source": []
  }
 ],
 "metadata": {
  "kernelspec": {
   "display_name": "venv",
   "language": "python",
   "name": "python3"
  },
  "language_info": {
   "codemirror_mode": {
    "name": "ipython",
    "version": 3
   },
   "file_extension": ".py",
   "mimetype": "text/x-python",
   "name": "python",
   "nbconvert_exporter": "python",
   "pygments_lexer": "ipython3",
   "version": "3.12.2"
  }
 },
 "nbformat": 4,
 "nbformat_minor": 2
}
