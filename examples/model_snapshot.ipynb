{
 "cells": [
  {
   "cell_type": "code",
   "execution_count": 1,
   "metadata": {},
   "outputs": [],
   "source": [
    "from onnxdoctor import chronology\n",
    "from onnxscript import ir\n",
    "import onnx"
   ]
  },
  {
   "cell_type": "code",
   "execution_count": 2,
   "metadata": {},
   "outputs": [],
   "source": [
    "proto = onnx.load(\"models/feastconv_Opset16.textproto\")\n",
    "model = ir.serde.deserialize_model(proto)"
   ]
  },
  {
   "cell_type": "code",
   "execution_count": 3,
   "metadata": {},
   "outputs": [
    {
     "ename": "AttributeError",
     "evalue": "'NoneType' object has no attribute 'name'",
     "output_type": "error",
     "traceback": [
      "\u001b[0;31m---------------------------------------------------------------------------\u001b[0m",
      "\u001b[0;31mAttributeError\u001b[0m                            Traceback (most recent call last)",
      "Cell \u001b[0;32mIn[3], line 1\u001b[0m\n\u001b[0;32m----> 1\u001b[0m snapshot \u001b[38;5;241m=\u001b[39m \u001b[43mchronology\u001b[49m\u001b[38;5;241;43m.\u001b[39;49m\u001b[43mcapture\u001b[49m\u001b[43m(\u001b[49m\u001b[43mmodel\u001b[49m\u001b[43m)\u001b[49m\n",
      "File \u001b[0;32m~/Documents/GitHub/onnx-doctor/onnxdoctor/chronology/_snapshot.py:114\u001b[0m, in \u001b[0;36mcapture\u001b[0;34m(obj)\u001b[0m\n\u001b[1;32m    112\u001b[0m snapshot \u001b[38;5;241m=\u001b[39m Snapshot(\u001b[38;5;28mid\u001b[39m(obj), \u001b[38;5;28mtype\u001b[39m(obj)\u001b[38;5;241m.\u001b[39m\u001b[38;5;18m__name__\u001b[39m)\n\u001b[1;32m    113\u001b[0m \u001b[38;5;28;01mif\u001b[39;00m \u001b[38;5;28misinstance\u001b[39m(obj, ir\u001b[38;5;241m.\u001b[39mModel):\n\u001b[0;32m--> 114\u001b[0m     \u001b[43m_capture_model\u001b[49m\u001b[43m(\u001b[49m\u001b[43msnapshot\u001b[49m\u001b[43m,\u001b[49m\u001b[43m \u001b[49m\u001b[43mobj\u001b[49m\u001b[43m)\u001b[49m\n\u001b[1;32m    115\u001b[0m \u001b[38;5;28;01melif\u001b[39;00m \u001b[38;5;28misinstance\u001b[39m(obj, ir\u001b[38;5;241m.\u001b[39mGraph):\n\u001b[1;32m    116\u001b[0m     _capture_graph(snapshot, obj)\n",
      "File \u001b[0;32m~/Documents/GitHub/onnx-doctor/onnxdoctor/chronology/_snapshot.py:143\u001b[0m, in \u001b[0;36m_capture_model\u001b[0;34m(snapshot, model)\u001b[0m\n\u001b[1;32m    130\u001b[0m \u001b[38;5;28;01mdef\u001b[39;00m \u001b[38;5;21m_capture_model\u001b[39m(snapshot: Snapshot, model: ir\u001b[38;5;241m.\u001b[39mModelProtocol):\n\u001b[1;32m    131\u001b[0m     snapshot\u001b[38;5;241m.\u001b[39mmodel \u001b[38;5;241m=\u001b[39m ModelSnapshot(\n\u001b[1;32m    132\u001b[0m         ir_version\u001b[38;5;241m=\u001b[39mmodel\u001b[38;5;241m.\u001b[39mir_version,\n\u001b[1;32m    133\u001b[0m         producer_name\u001b[38;5;241m=\u001b[39mmodel\u001b[38;5;241m.\u001b[39mproducer_name,\n\u001b[0;32m   (...)\u001b[0m\n\u001b[1;32m    141\u001b[0m         functions\u001b[38;5;241m=\u001b[39m[\u001b[38;5;28mid\u001b[39m(func) \u001b[38;5;28;01mfor\u001b[39;00m func \u001b[38;5;129;01min\u001b[39;00m model\u001b[38;5;241m.\u001b[39mfunctions\u001b[38;5;241m.\u001b[39mvalues()],\n\u001b[1;32m    142\u001b[0m     )\n\u001b[0;32m--> 143\u001b[0m     \u001b[43m_capture_graph\u001b[49m\u001b[43m(\u001b[49m\u001b[43msnapshot\u001b[49m\u001b[43m,\u001b[49m\u001b[43m \u001b[49m\u001b[43mmodel\u001b[49m\u001b[38;5;241;43m.\u001b[39;49m\u001b[43mgraph\u001b[49m\u001b[43m)\u001b[49m\n\u001b[1;32m    144\u001b[0m     \u001b[38;5;28;01mfor\u001b[39;00m func \u001b[38;5;129;01min\u001b[39;00m model\u001b[38;5;241m.\u001b[39mfunctions\u001b[38;5;241m.\u001b[39mvalues():\n\u001b[1;32m    145\u001b[0m         _capture_function(snapshot, func)\n",
      "File \u001b[0;32m~/Documents/GitHub/onnx-doctor/onnxdoctor/chronology/_snapshot.py:163\u001b[0m, in \u001b[0;36m_capture_graph\u001b[0;34m(snapshot, graph)\u001b[0m\n\u001b[1;32m    161\u001b[0m     \u001b[38;5;28;01mfor\u001b[39;00m output \u001b[38;5;129;01min\u001b[39;00m node\u001b[38;5;241m.\u001b[39moutputs:\n\u001b[1;32m    162\u001b[0m         _capture_value(snapshot, output)\n\u001b[0;32m--> 163\u001b[0m     \u001b[43m_capture_node\u001b[49m\u001b[43m(\u001b[49m\u001b[43msnapshot\u001b[49m\u001b[43m,\u001b[49m\u001b[43m \u001b[49m\u001b[43mnode\u001b[49m\u001b[43m)\u001b[49m\n\u001b[1;32m    164\u001b[0m \u001b[38;5;28;01mfor\u001b[39;00m initializer \u001b[38;5;129;01min\u001b[39;00m graph\u001b[38;5;241m.\u001b[39minitializers\u001b[38;5;241m.\u001b[39mvalues():\n\u001b[1;32m    165\u001b[0m     _capture_tensor(snapshot, initializer)\n",
      "File \u001b[0;32m~/Documents/GitHub/onnx-doctor/onnxdoctor/chronology/_snapshot.py:193\u001b[0m, in \u001b[0;36m_capture_node\u001b[0;34m(snapshot, node)\u001b[0m\n\u001b[1;32m    183\u001b[0m snapshot\u001b[38;5;241m.\u001b[39mnodes[\u001b[38;5;28mid\u001b[39m(node)] \u001b[38;5;241m=\u001b[39m NodeSnapshot(\n\u001b[1;32m    184\u001b[0m     \u001b[38;5;28mid\u001b[39m\u001b[38;5;241m=\u001b[39m\u001b[38;5;28mid\u001b[39m(node),\n\u001b[1;32m    185\u001b[0m     domain\u001b[38;5;241m=\u001b[39mnode\u001b[38;5;241m.\u001b[39mdomain,\n\u001b[0;32m   (...)\u001b[0m\n\u001b[1;32m    190\u001b[0m     attributes\u001b[38;5;241m=\u001b[39m[\u001b[38;5;28mid\u001b[39m(attr) \u001b[38;5;28;01mif\u001b[39;00m attr \u001b[38;5;129;01mis\u001b[39;00m \u001b[38;5;129;01mnot\u001b[39;00m \u001b[38;5;28;01mNone\u001b[39;00m \u001b[38;5;28;01melse\u001b[39;00m \u001b[38;5;28;01mNone\u001b[39;00m \u001b[38;5;28;01mfor\u001b[39;00m attr \u001b[38;5;129;01min\u001b[39;00m node\u001b[38;5;241m.\u001b[39mattributes],\n\u001b[1;32m    191\u001b[0m )\n\u001b[1;32m    192\u001b[0m \u001b[38;5;28;01mfor\u001b[39;00m input_ \u001b[38;5;129;01min\u001b[39;00m node\u001b[38;5;241m.\u001b[39minputs:\n\u001b[0;32m--> 193\u001b[0m     \u001b[43m_capture_value\u001b[49m\u001b[43m(\u001b[49m\u001b[43msnapshot\u001b[49m\u001b[43m,\u001b[49m\u001b[43m \u001b[49m\u001b[43minput_\u001b[49m\u001b[43m)\u001b[49m\n\u001b[1;32m    194\u001b[0m \u001b[38;5;28;01mfor\u001b[39;00m output \u001b[38;5;129;01min\u001b[39;00m node\u001b[38;5;241m.\u001b[39moutputs:\n\u001b[1;32m    195\u001b[0m     _capture_value(snapshot, output)\n",
      "File \u001b[0;32m~/Documents/GitHub/onnx-doctor/onnxdoctor/chronology/_snapshot.py:206\u001b[0m, in \u001b[0;36m_capture_value\u001b[0;34m(snapshot, value)\u001b[0m\n\u001b[1;32m    203\u001b[0m \u001b[38;5;28;01mdef\u001b[39;00m \u001b[38;5;21m_capture_value\u001b[39m(snapshot: Snapshot, value: ir\u001b[38;5;241m.\u001b[39mValueProtocol):\n\u001b[1;32m    204\u001b[0m     snapshot\u001b[38;5;241m.\u001b[39mvalues[\u001b[38;5;28mid\u001b[39m(value)] \u001b[38;5;241m=\u001b[39m ValueSnapshot(\n\u001b[1;32m    205\u001b[0m         \u001b[38;5;28mid\u001b[39m\u001b[38;5;241m=\u001b[39m\u001b[38;5;28mid\u001b[39m(value),\n\u001b[0;32m--> 206\u001b[0m         name\u001b[38;5;241m=\u001b[39m\u001b[43mvalue\u001b[49m\u001b[38;5;241;43m.\u001b[39;49m\u001b[43mname\u001b[49m,\n\u001b[1;32m    207\u001b[0m         \u001b[38;5;28mtype\u001b[39m\u001b[38;5;241m=\u001b[39m\u001b[38;5;28mstr\u001b[39m(value\u001b[38;5;241m.\u001b[39mtype),\n\u001b[1;32m    208\u001b[0m         shape\u001b[38;5;241m=\u001b[39m\u001b[38;5;28mstr\u001b[39m(value\u001b[38;5;241m.\u001b[39mshape),\n\u001b[1;32m    209\u001b[0m     )\n",
      "\u001b[0;31mAttributeError\u001b[0m: 'NoneType' object has no attribute 'name'"
     ]
    }
   ],
   "source": [
    "snapshot = chronology.capture(model)"
   ]
  },
  {
   "cell_type": "code",
   "execution_count": null,
   "metadata": {},
   "outputs": [],
   "source": [
    "print(snapshot)"
   ]
  }
 ],
 "metadata": {
  "kernelspec": {
   "display_name": "venv",
   "language": "python",
   "name": "python3"
  },
  "language_info": {
   "codemirror_mode": {
    "name": "ipython",
    "version": 3
   },
   "file_extension": ".py",
   "mimetype": "text/x-python",
   "name": "python",
   "nbconvert_exporter": "python",
   "pygments_lexer": "ipython3",
   "version": "3.12.2"
  }
 },
 "nbformat": 4,
 "nbformat_minor": 2
}
